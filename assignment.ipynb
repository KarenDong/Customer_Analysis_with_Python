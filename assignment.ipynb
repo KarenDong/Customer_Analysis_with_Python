{
 "cells": [
  {
   "cell_type": "markdown",
   "metadata": {},
   "source": [
    "[Summary]\n",
    "\n",
    "Below list the general step of modeling:\n",
    " \n",
    "Check the general correlation between sales of the 3 products and different segments.\n",
    "\n",
    "Sales prediction:\n",
    "Using classification methods to predict the sale_MF, sale_CC, sale_CL.\n",
    "In MF part, I tried to build logistic regression and decision tree, and decision tree works better. So I used decision tree for all 3 products' sale prediction.\n",
    "(Products_ActBalance columns was dropped for this step, since there are too many null values.)\n",
    "\n",
    "Revenue prediction:\n",
    "Using linear regression for revenue prediction.\n",
    "For revenue prediction, some related columns in Products_ActBalance columns was included in the training data when building model. For example, Count_MF and ActBal_MF for MF revenue prediction. I replaced those null value by 0.\n"
   ]
  },
  {
   "cell_type": "code",
   "execution_count": null,
   "metadata": {
    "collapsed": true
   },
   "outputs": [],
   "source": [
    "import numpy as np\n",
    "import pandas as pd\n",
    "import seaborn as sns\n",
    "from sklearn import tree\n",
    "from sklearn.svm import SVC\n",
    "from sklearn.svm import SVR\n",
    "from sklearn.linear_model import LogisticRegression\n",
    "from sklearn.linear_model import LinearRegression\n",
    "import matplotlib.pyplot as plt\n",
    "from sklearn.model_selection import train_test_split\n",
    "from sklearn.preprocessing import LabelEncoder\n",
    "from sklearn import preprocessing\n",
    "from sklearn import model_selection\n",
    "from sklearn import metrics\n",
    "from sklearn.linear_model import LogisticRegression\n",
    "import matplotlib.pyplot as plt\n",
    "from imblearn.over_sampling import SMOTE"
   ]
  },
  {
   "cell_type": "markdown",
   "metadata": {},
   "source": [
    "1. Import Train data \n",
    "  Training data is joined select from 4 tables, where Targets are not null. And the Sex was replaced by numeric data - M1 F0."
   ]
  },
  {
   "cell_type": "code",
   "execution_count": 2,
   "metadata": {
    "collapsed": true
   },
   "outputs": [],
   "source": [
    "df = pd.read_csv('model/base.csv')"
   ]
  },
  {
   "cell_type": "code",
   "execution_count": 3,
   "metadata": {
    "collapsed": true
   },
   "outputs": [],
   "source": [
    "del_cols = [ 'CLIENT', 'Count_SA', 'Count_MF','Count_OVD', 'Count_CC', 'Count_CL','ActBal_SA','ActBal_MF', 'ActBal_OVD', 'ActBal_CC', 'ActBal_CL']\n",
    "for col in del_cols:\n",
    "    del df[col]"
   ]
  },
  {
   "cell_type": "markdown",
   "metadata": {},
   "source": [
    "For the rest columns, check the correlation between segments and sales"
   ]
  },
  {
   "cell_type": "code",
   "execution_count": 4,
   "metadata": {
    "scrolled": true
   },
   "outputs": [
    {
     "data": {
      "text/html": [
       "<div>\n",
       "<style scoped>\n",
       "    .dataframe tbody tr th:only-of-type {\n",
       "        vertical-align: middle;\n",
       "    }\n",
       "\n",
       "    .dataframe tbody tr th {\n",
       "        vertical-align: top;\n",
       "    }\n",
       "\n",
       "    .dataframe thead th {\n",
       "        text-align: right;\n",
       "    }\n",
       "</style>\n",
       "<table border=\"1\" class=\"dataframe\">\n",
       "  <thead>\n",
       "    <tr style=\"text-align: right;\">\n",
       "      <th></th>\n",
       "      <th>Sex</th>\n",
       "      <th>Age</th>\n",
       "      <th>Tenure</th>\n",
       "      <th>Count_CA</th>\n",
       "      <th>ActBal_CA</th>\n",
       "      <th>VolumeCred</th>\n",
       "      <th>VolumeCred_CA</th>\n",
       "      <th>TransactionsCred</th>\n",
       "      <th>TransactionsCred_CA</th>\n",
       "      <th>VolumeDeb</th>\n",
       "      <th>...</th>\n",
       "      <th>TransactionsDeb_CA</th>\n",
       "      <th>TransactionsDebCash_Card</th>\n",
       "      <th>TransactionsDebCashless_Card</th>\n",
       "      <th>TransactionsDeb_PaymentOrder</th>\n",
       "      <th>Sale_MF</th>\n",
       "      <th>Sale_CC</th>\n",
       "      <th>Sale_CL</th>\n",
       "      <th>Revenue_MF</th>\n",
       "      <th>Revenue_CC</th>\n",
       "      <th>Revenue_CL</th>\n",
       "    </tr>\n",
       "  </thead>\n",
       "  <tbody>\n",
       "    <tr>\n",
       "      <th>Sex</th>\n",
       "      <td>1.000000</td>\n",
       "      <td>0.027182</td>\n",
       "      <td>-0.022083</td>\n",
       "      <td>0.046202</td>\n",
       "      <td>0.067365</td>\n",
       "      <td>0.000908</td>\n",
       "      <td>0.001253</td>\n",
       "      <td>0.052882</td>\n",
       "      <td>0.062119</td>\n",
       "      <td>0.010967</td>\n",
       "      <td>...</td>\n",
       "      <td>0.005749</td>\n",
       "      <td>-0.044802</td>\n",
       "      <td>0.002895</td>\n",
       "      <td>0.046420</td>\n",
       "      <td>0.048783</td>\n",
       "      <td>-0.005364</td>\n",
       "      <td>-0.035595</td>\n",
       "      <td>0.044842</td>\n",
       "      <td>-0.037741</td>\n",
       "      <td>-0.026639</td>\n",
       "    </tr>\n",
       "    <tr>\n",
       "      <th>Age</th>\n",
       "      <td>0.027182</td>\n",
       "      <td>1.000000</td>\n",
       "      <td>-0.033163</td>\n",
       "      <td>0.032377</td>\n",
       "      <td>-0.033100</td>\n",
       "      <td>0.001972</td>\n",
       "      <td>-0.010758</td>\n",
       "      <td>0.043815</td>\n",
       "      <td>0.037448</td>\n",
       "      <td>0.010380</td>\n",
       "      <td>...</td>\n",
       "      <td>0.015264</td>\n",
       "      <td>-0.017195</td>\n",
       "      <td>-0.001393</td>\n",
       "      <td>0.055594</td>\n",
       "      <td>-0.029232</td>\n",
       "      <td>0.044249</td>\n",
       "      <td>-0.173893</td>\n",
       "      <td>0.047046</td>\n",
       "      <td>0.026714</td>\n",
       "      <td>-0.128329</td>\n",
       "    </tr>\n",
       "    <tr>\n",
       "      <th>Tenure</th>\n",
       "      <td>-0.022083</td>\n",
       "      <td>-0.033163</td>\n",
       "      <td>1.000000</td>\n",
       "      <td>0.026385</td>\n",
       "      <td>0.047593</td>\n",
       "      <td>-0.032893</td>\n",
       "      <td>-0.023290</td>\n",
       "      <td>-0.025332</td>\n",
       "      <td>-0.032828</td>\n",
       "      <td>-0.017675</td>\n",
       "      <td>...</td>\n",
       "      <td>0.025770</td>\n",
       "      <td>-0.014309</td>\n",
       "      <td>0.027312</td>\n",
       "      <td>0.021407</td>\n",
       "      <td>-0.005537</td>\n",
       "      <td>0.015303</td>\n",
       "      <td>0.180419</td>\n",
       "      <td>-0.007528</td>\n",
       "      <td>0.000093</td>\n",
       "      <td>0.169554</td>\n",
       "    </tr>\n",
       "    <tr>\n",
       "      <th>Count_CA</th>\n",
       "      <td>0.046202</td>\n",
       "      <td>0.032377</td>\n",
       "      <td>0.026385</td>\n",
       "      <td>1.000000</td>\n",
       "      <td>0.000361</td>\n",
       "      <td>-0.028907</td>\n",
       "      <td>-0.035477</td>\n",
       "      <td>0.004268</td>\n",
       "      <td>0.011364</td>\n",
       "      <td>-0.025107</td>\n",
       "      <td>...</td>\n",
       "      <td>-0.003952</td>\n",
       "      <td>-0.004021</td>\n",
       "      <td>-0.010127</td>\n",
       "      <td>-0.009832</td>\n",
       "      <td>0.001482</td>\n",
       "      <td>-0.031212</td>\n",
       "      <td>0.082731</td>\n",
       "      <td>0.000978</td>\n",
       "      <td>-0.022189</td>\n",
       "      <td>0.058075</td>\n",
       "    </tr>\n",
       "    <tr>\n",
       "      <th>ActBal_CA</th>\n",
       "      <td>0.067365</td>\n",
       "      <td>-0.033100</td>\n",
       "      <td>0.047593</td>\n",
       "      <td>0.000361</td>\n",
       "      <td>1.000000</td>\n",
       "      <td>0.041870</td>\n",
       "      <td>0.022568</td>\n",
       "      <td>0.119238</td>\n",
       "      <td>0.122376</td>\n",
       "      <td>0.041733</td>\n",
       "      <td>...</td>\n",
       "      <td>0.075773</td>\n",
       "      <td>0.034166</td>\n",
       "      <td>0.073329</td>\n",
       "      <td>0.019533</td>\n",
       "      <td>-0.043749</td>\n",
       "      <td>0.162384</td>\n",
       "      <td>-0.055871</td>\n",
       "      <td>0.003895</td>\n",
       "      <td>0.009028</td>\n",
       "      <td>-0.024567</td>\n",
       "    </tr>\n",
       "    <tr>\n",
       "      <th>VolumeCred</th>\n",
       "      <td>0.000908</td>\n",
       "      <td>0.001972</td>\n",
       "      <td>-0.032893</td>\n",
       "      <td>-0.028907</td>\n",
       "      <td>0.041870</td>\n",
       "      <td>1.000000</td>\n",
       "      <td>0.924795</td>\n",
       "      <td>0.183499</td>\n",
       "      <td>0.148469</td>\n",
       "      <td>0.905529</td>\n",
       "      <td>...</td>\n",
       "      <td>0.241972</td>\n",
       "      <td>0.082537</td>\n",
       "      <td>0.177502</td>\n",
       "      <td>0.302497</td>\n",
       "      <td>-0.003366</td>\n",
       "      <td>0.015239</td>\n",
       "      <td>0.005082</td>\n",
       "      <td>0.026236</td>\n",
       "      <td>0.018452</td>\n",
       "      <td>0.008421</td>\n",
       "    </tr>\n",
       "    <tr>\n",
       "      <th>VolumeCred_CA</th>\n",
       "      <td>0.001253</td>\n",
       "      <td>-0.010758</td>\n",
       "      <td>-0.023290</td>\n",
       "      <td>-0.035477</td>\n",
       "      <td>0.022568</td>\n",
       "      <td>0.924795</td>\n",
       "      <td>1.000000</td>\n",
       "      <td>0.174576</td>\n",
       "      <td>0.156533</td>\n",
       "      <td>0.820236</td>\n",
       "      <td>...</td>\n",
       "      <td>0.283401</td>\n",
       "      <td>0.105394</td>\n",
       "      <td>0.226789</td>\n",
       "      <td>0.335153</td>\n",
       "      <td>0.015658</td>\n",
       "      <td>-0.002584</td>\n",
       "      <td>-0.007060</td>\n",
       "      <td>0.042530</td>\n",
       "      <td>0.024065</td>\n",
       "      <td>-0.021951</td>\n",
       "    </tr>\n",
       "    <tr>\n",
       "      <th>TransactionsCred</th>\n",
       "      <td>0.052882</td>\n",
       "      <td>0.043815</td>\n",
       "      <td>-0.025332</td>\n",
       "      <td>0.004268</td>\n",
       "      <td>0.119238</td>\n",
       "      <td>0.183499</td>\n",
       "      <td>0.174576</td>\n",
       "      <td>1.000000</td>\n",
       "      <td>0.948487</td>\n",
       "      <td>0.246522</td>\n",
       "      <td>...</td>\n",
       "      <td>0.463599</td>\n",
       "      <td>0.254855</td>\n",
       "      <td>0.320506</td>\n",
       "      <td>0.412020</td>\n",
       "      <td>0.073665</td>\n",
       "      <td>0.033696</td>\n",
       "      <td>0.083170</td>\n",
       "      <td>0.022569</td>\n",
       "      <td>0.027156</td>\n",
       "      <td>0.046733</td>\n",
       "    </tr>\n",
       "    <tr>\n",
       "      <th>TransactionsCred_CA</th>\n",
       "      <td>0.062119</td>\n",
       "      <td>0.037448</td>\n",
       "      <td>-0.032828</td>\n",
       "      <td>0.011364</td>\n",
       "      <td>0.122376</td>\n",
       "      <td>0.148469</td>\n",
       "      <td>0.156533</td>\n",
       "      <td>0.948487</td>\n",
       "      <td>1.000000</td>\n",
       "      <td>0.206012</td>\n",
       "      <td>...</td>\n",
       "      <td>0.492575</td>\n",
       "      <td>0.269750</td>\n",
       "      <td>0.297702</td>\n",
       "      <td>0.414069</td>\n",
       "      <td>0.081221</td>\n",
       "      <td>0.007772</td>\n",
       "      <td>0.084753</td>\n",
       "      <td>0.023967</td>\n",
       "      <td>0.017244</td>\n",
       "      <td>0.031194</td>\n",
       "    </tr>\n",
       "    <tr>\n",
       "      <th>VolumeDeb</th>\n",
       "      <td>0.010967</td>\n",
       "      <td>0.010380</td>\n",
       "      <td>-0.017675</td>\n",
       "      <td>-0.025107</td>\n",
       "      <td>0.041733</td>\n",
       "      <td>0.905529</td>\n",
       "      <td>0.820236</td>\n",
       "      <td>0.246522</td>\n",
       "      <td>0.206012</td>\n",
       "      <td>1.000000</td>\n",
       "      <td>...</td>\n",
       "      <td>0.302773</td>\n",
       "      <td>0.088213</td>\n",
       "      <td>0.232814</td>\n",
       "      <td>0.358278</td>\n",
       "      <td>-0.036300</td>\n",
       "      <td>0.055976</td>\n",
       "      <td>0.061492</td>\n",
       "      <td>-0.016762</td>\n",
       "      <td>0.029173</td>\n",
       "      <td>0.054608</td>\n",
       "    </tr>\n",
       "    <tr>\n",
       "      <th>VolumeDeb_CA</th>\n",
       "      <td>-0.001256</td>\n",
       "      <td>0.012729</td>\n",
       "      <td>-0.011367</td>\n",
       "      <td>-0.043375</td>\n",
       "      <td>0.030203</td>\n",
       "      <td>0.903274</td>\n",
       "      <td>0.832853</td>\n",
       "      <td>0.192928</td>\n",
       "      <td>0.168080</td>\n",
       "      <td>0.972864</td>\n",
       "      <td>...</td>\n",
       "      <td>0.295535</td>\n",
       "      <td>0.076276</td>\n",
       "      <td>0.222753</td>\n",
       "      <td>0.356741</td>\n",
       "      <td>-0.032684</td>\n",
       "      <td>0.048889</td>\n",
       "      <td>0.039594</td>\n",
       "      <td>-0.015370</td>\n",
       "      <td>0.028365</td>\n",
       "      <td>0.038276</td>\n",
       "    </tr>\n",
       "    <tr>\n",
       "      <th>VolumeDebCash_Card</th>\n",
       "      <td>0.029395</td>\n",
       "      <td>0.012286</td>\n",
       "      <td>-0.004431</td>\n",
       "      <td>-0.030228</td>\n",
       "      <td>-0.010849</td>\n",
       "      <td>0.507850</td>\n",
       "      <td>0.640864</td>\n",
       "      <td>0.093767</td>\n",
       "      <td>0.104531</td>\n",
       "      <td>0.378131</td>\n",
       "      <td>...</td>\n",
       "      <td>0.278151</td>\n",
       "      <td>0.327110</td>\n",
       "      <td>0.152536</td>\n",
       "      <td>0.209386</td>\n",
       "      <td>-0.030535</td>\n",
       "      <td>-0.009395</td>\n",
       "      <td>0.015153</td>\n",
       "      <td>-0.020262</td>\n",
       "      <td>-0.011469</td>\n",
       "      <td>0.009560</td>\n",
       "    </tr>\n",
       "    <tr>\n",
       "      <th>VolumeDebCashless_Card</th>\n",
       "      <td>0.006583</td>\n",
       "      <td>0.032099</td>\n",
       "      <td>0.011070</td>\n",
       "      <td>-0.039501</td>\n",
       "      <td>0.055088</td>\n",
       "      <td>0.205401</td>\n",
       "      <td>0.244209</td>\n",
       "      <td>0.266232</td>\n",
       "      <td>0.258521</td>\n",
       "      <td>0.321308</td>\n",
       "      <td>...</td>\n",
       "      <td>0.617316</td>\n",
       "      <td>0.225006</td>\n",
       "      <td>0.690777</td>\n",
       "      <td>0.362673</td>\n",
       "      <td>0.001447</td>\n",
       "      <td>-0.013380</td>\n",
       "      <td>0.036756</td>\n",
       "      <td>-0.020607</td>\n",
       "      <td>-0.017680</td>\n",
       "      <td>0.008076</td>\n",
       "    </tr>\n",
       "    <tr>\n",
       "      <th>VolumeDeb_PaymentOrder</th>\n",
       "      <td>-0.022229</td>\n",
       "      <td>-0.011751</td>\n",
       "      <td>0.024885</td>\n",
       "      <td>-0.033609</td>\n",
       "      <td>-0.021364</td>\n",
       "      <td>0.624811</td>\n",
       "      <td>0.646014</td>\n",
       "      <td>0.134420</td>\n",
       "      <td>0.119594</td>\n",
       "      <td>0.793354</td>\n",
       "      <td>...</td>\n",
       "      <td>0.216646</td>\n",
       "      <td>0.005115</td>\n",
       "      <td>0.186524</td>\n",
       "      <td>0.320460</td>\n",
       "      <td>-0.012854</td>\n",
       "      <td>0.078811</td>\n",
       "      <td>0.051313</td>\n",
       "      <td>-0.010829</td>\n",
       "      <td>0.049989</td>\n",
       "      <td>0.055015</td>\n",
       "    </tr>\n",
       "    <tr>\n",
       "      <th>TransactionsDeb</th>\n",
       "      <td>0.020590</td>\n",
       "      <td>0.013400</td>\n",
       "      <td>0.003239</td>\n",
       "      <td>0.000450</td>\n",
       "      <td>0.104766</td>\n",
       "      <td>0.263258</td>\n",
       "      <td>0.294480</td>\n",
       "      <td>0.700556</td>\n",
       "      <td>0.667397</td>\n",
       "      <td>0.332166</td>\n",
       "      <td>...</td>\n",
       "      <td>0.914433</td>\n",
       "      <td>0.561794</td>\n",
       "      <td>0.795921</td>\n",
       "      <td>0.658028</td>\n",
       "      <td>0.082046</td>\n",
       "      <td>-0.000405</td>\n",
       "      <td>0.068233</td>\n",
       "      <td>-0.003426</td>\n",
       "      <td>0.018276</td>\n",
       "      <td>0.017246</td>\n",
       "    </tr>\n",
       "    <tr>\n",
       "      <th>TransactionsDeb_CA</th>\n",
       "      <td>0.005749</td>\n",
       "      <td>0.015264</td>\n",
       "      <td>0.025770</td>\n",
       "      <td>-0.003952</td>\n",
       "      <td>0.075773</td>\n",
       "      <td>0.241972</td>\n",
       "      <td>0.283401</td>\n",
       "      <td>0.463599</td>\n",
       "      <td>0.492575</td>\n",
       "      <td>0.302773</td>\n",
       "      <td>...</td>\n",
       "      <td>1.000000</td>\n",
       "      <td>0.596271</td>\n",
       "      <td>0.792036</td>\n",
       "      <td>0.678764</td>\n",
       "      <td>0.053412</td>\n",
       "      <td>-0.010032</td>\n",
       "      <td>0.064502</td>\n",
       "      <td>-0.022107</td>\n",
       "      <td>0.024509</td>\n",
       "      <td>0.014431</td>\n",
       "    </tr>\n",
       "    <tr>\n",
       "      <th>TransactionsDebCash_Card</th>\n",
       "      <td>-0.044802</td>\n",
       "      <td>-0.017195</td>\n",
       "      <td>-0.014309</td>\n",
       "      <td>-0.004021</td>\n",
       "      <td>0.034166</td>\n",
       "      <td>0.082537</td>\n",
       "      <td>0.105394</td>\n",
       "      <td>0.254855</td>\n",
       "      <td>0.269750</td>\n",
       "      <td>0.088213</td>\n",
       "      <td>...</td>\n",
       "      <td>0.596271</td>\n",
       "      <td>1.000000</td>\n",
       "      <td>0.349361</td>\n",
       "      <td>0.184981</td>\n",
       "      <td>-0.001596</td>\n",
       "      <td>0.067780</td>\n",
       "      <td>0.075577</td>\n",
       "      <td>-0.027620</td>\n",
       "      <td>0.038117</td>\n",
       "      <td>0.037512</td>\n",
       "    </tr>\n",
       "    <tr>\n",
       "      <th>TransactionsDebCashless_Card</th>\n",
       "      <td>0.002895</td>\n",
       "      <td>-0.001393</td>\n",
       "      <td>0.027312</td>\n",
       "      <td>-0.010127</td>\n",
       "      <td>0.073329</td>\n",
       "      <td>0.177502</td>\n",
       "      <td>0.226789</td>\n",
       "      <td>0.320506</td>\n",
       "      <td>0.297702</td>\n",
       "      <td>0.232814</td>\n",
       "      <td>...</td>\n",
       "      <td>0.792036</td>\n",
       "      <td>0.349361</td>\n",
       "      <td>1.000000</td>\n",
       "      <td>0.369548</td>\n",
       "      <td>0.124722</td>\n",
       "      <td>-0.048920</td>\n",
       "      <td>0.014136</td>\n",
       "      <td>0.008422</td>\n",
       "      <td>-0.011745</td>\n",
       "      <td>-0.023572</td>\n",
       "    </tr>\n",
       "    <tr>\n",
       "      <th>TransactionsDeb_PaymentOrder</th>\n",
       "      <td>0.046420</td>\n",
       "      <td>0.055594</td>\n",
       "      <td>0.021407</td>\n",
       "      <td>-0.009832</td>\n",
       "      <td>0.019533</td>\n",
       "      <td>0.302497</td>\n",
       "      <td>0.335153</td>\n",
       "      <td>0.412020</td>\n",
       "      <td>0.414069</td>\n",
       "      <td>0.358278</td>\n",
       "      <td>...</td>\n",
       "      <td>0.678764</td>\n",
       "      <td>0.184981</td>\n",
       "      <td>0.369548</td>\n",
       "      <td>1.000000</td>\n",
       "      <td>0.022197</td>\n",
       "      <td>-0.010812</td>\n",
       "      <td>0.048910</td>\n",
       "      <td>-0.006858</td>\n",
       "      <td>0.021612</td>\n",
       "      <td>0.007201</td>\n",
       "    </tr>\n",
       "    <tr>\n",
       "      <th>Sale_MF</th>\n",
       "      <td>0.048783</td>\n",
       "      <td>-0.029232</td>\n",
       "      <td>-0.005537</td>\n",
       "      <td>0.001482</td>\n",
       "      <td>-0.043749</td>\n",
       "      <td>-0.003366</td>\n",
       "      <td>0.015658</td>\n",
       "      <td>0.073665</td>\n",
       "      <td>0.081221</td>\n",
       "      <td>-0.036300</td>\n",
       "      <td>...</td>\n",
       "      <td>0.053412</td>\n",
       "      <td>-0.001596</td>\n",
       "      <td>0.124722</td>\n",
       "      <td>0.022197</td>\n",
       "      <td>1.000000</td>\n",
       "      <td>-0.018724</td>\n",
       "      <td>-0.015069</td>\n",
       "      <td>0.387611</td>\n",
       "      <td>-0.016969</td>\n",
       "      <td>0.003911</td>\n",
       "    </tr>\n",
       "    <tr>\n",
       "      <th>Sale_CC</th>\n",
       "      <td>-0.005364</td>\n",
       "      <td>0.044249</td>\n",
       "      <td>0.015303</td>\n",
       "      <td>-0.031212</td>\n",
       "      <td>0.162384</td>\n",
       "      <td>0.015239</td>\n",
       "      <td>-0.002584</td>\n",
       "      <td>0.033696</td>\n",
       "      <td>0.007772</td>\n",
       "      <td>0.055976</td>\n",
       "      <td>...</td>\n",
       "      <td>-0.010032</td>\n",
       "      <td>0.067780</td>\n",
       "      <td>-0.048920</td>\n",
       "      <td>-0.010812</td>\n",
       "      <td>-0.018724</td>\n",
       "      <td>1.000000</td>\n",
       "      <td>-0.015973</td>\n",
       "      <td>-0.001625</td>\n",
       "      <td>0.266215</td>\n",
       "      <td>0.060569</td>\n",
       "    </tr>\n",
       "    <tr>\n",
       "      <th>Sale_CL</th>\n",
       "      <td>-0.035595</td>\n",
       "      <td>-0.173893</td>\n",
       "      <td>0.180419</td>\n",
       "      <td>0.082731</td>\n",
       "      <td>-0.055871</td>\n",
       "      <td>0.005082</td>\n",
       "      <td>-0.007060</td>\n",
       "      <td>0.083170</td>\n",
       "      <td>0.084753</td>\n",
       "      <td>0.061492</td>\n",
       "      <td>...</td>\n",
       "      <td>0.064502</td>\n",
       "      <td>0.075577</td>\n",
       "      <td>0.014136</td>\n",
       "      <td>0.048910</td>\n",
       "      <td>-0.015069</td>\n",
       "      <td>-0.015973</td>\n",
       "      <td>1.000000</td>\n",
       "      <td>0.013536</td>\n",
       "      <td>-0.004591</td>\n",
       "      <td>0.710391</td>\n",
       "    </tr>\n",
       "    <tr>\n",
       "      <th>Revenue_MF</th>\n",
       "      <td>0.044842</td>\n",
       "      <td>0.047046</td>\n",
       "      <td>-0.007528</td>\n",
       "      <td>0.000978</td>\n",
       "      <td>0.003895</td>\n",
       "      <td>0.026236</td>\n",
       "      <td>0.042530</td>\n",
       "      <td>0.022569</td>\n",
       "      <td>0.023967</td>\n",
       "      <td>-0.016762</td>\n",
       "      <td>...</td>\n",
       "      <td>-0.022107</td>\n",
       "      <td>-0.027620</td>\n",
       "      <td>0.008422</td>\n",
       "      <td>-0.006858</td>\n",
       "      <td>0.387611</td>\n",
       "      <td>-0.001625</td>\n",
       "      <td>0.013536</td>\n",
       "      <td>1.000000</td>\n",
       "      <td>-0.019329</td>\n",
       "      <td>-0.011593</td>\n",
       "    </tr>\n",
       "    <tr>\n",
       "      <th>Revenue_CC</th>\n",
       "      <td>-0.037741</td>\n",
       "      <td>0.026714</td>\n",
       "      <td>0.000093</td>\n",
       "      <td>-0.022189</td>\n",
       "      <td>0.009028</td>\n",
       "      <td>0.018452</td>\n",
       "      <td>0.024065</td>\n",
       "      <td>0.027156</td>\n",
       "      <td>0.017244</td>\n",
       "      <td>0.029173</td>\n",
       "      <td>...</td>\n",
       "      <td>0.024509</td>\n",
       "      <td>0.038117</td>\n",
       "      <td>-0.011745</td>\n",
       "      <td>0.021612</td>\n",
       "      <td>-0.016969</td>\n",
       "      <td>0.266215</td>\n",
       "      <td>-0.004591</td>\n",
       "      <td>-0.019329</td>\n",
       "      <td>1.000000</td>\n",
       "      <td>0.016534</td>\n",
       "    </tr>\n",
       "    <tr>\n",
       "      <th>Revenue_CL</th>\n",
       "      <td>-0.026639</td>\n",
       "      <td>-0.128329</td>\n",
       "      <td>0.169554</td>\n",
       "      <td>0.058075</td>\n",
       "      <td>-0.024567</td>\n",
       "      <td>0.008421</td>\n",
       "      <td>-0.021951</td>\n",
       "      <td>0.046733</td>\n",
       "      <td>0.031194</td>\n",
       "      <td>0.054608</td>\n",
       "      <td>...</td>\n",
       "      <td>0.014431</td>\n",
       "      <td>0.037512</td>\n",
       "      <td>-0.023572</td>\n",
       "      <td>0.007201</td>\n",
       "      <td>0.003911</td>\n",
       "      <td>0.060569</td>\n",
       "      <td>0.710391</td>\n",
       "      <td>-0.011593</td>\n",
       "      <td>0.016534</td>\n",
       "      <td>1.000000</td>\n",
       "    </tr>\n",
       "  </tbody>\n",
       "</table>\n",
       "<p>25 rows × 25 columns</p>\n",
       "</div>"
      ],
      "text/plain": [
       "                                   Sex       Age    Tenure  Count_CA  \\\n",
       "Sex                           1.000000  0.027182 -0.022083  0.046202   \n",
       "Age                           0.027182  1.000000 -0.033163  0.032377   \n",
       "Tenure                       -0.022083 -0.033163  1.000000  0.026385   \n",
       "Count_CA                      0.046202  0.032377  0.026385  1.000000   \n",
       "ActBal_CA                     0.067365 -0.033100  0.047593  0.000361   \n",
       "VolumeCred                    0.000908  0.001972 -0.032893 -0.028907   \n",
       "VolumeCred_CA                 0.001253 -0.010758 -0.023290 -0.035477   \n",
       "TransactionsCred              0.052882  0.043815 -0.025332  0.004268   \n",
       "TransactionsCred_CA           0.062119  0.037448 -0.032828  0.011364   \n",
       "VolumeDeb                     0.010967  0.010380 -0.017675 -0.025107   \n",
       "VolumeDeb_CA                 -0.001256  0.012729 -0.011367 -0.043375   \n",
       "VolumeDebCash_Card            0.029395  0.012286 -0.004431 -0.030228   \n",
       "VolumeDebCashless_Card        0.006583  0.032099  0.011070 -0.039501   \n",
       "VolumeDeb_PaymentOrder       -0.022229 -0.011751  0.024885 -0.033609   \n",
       "TransactionsDeb               0.020590  0.013400  0.003239  0.000450   \n",
       "TransactionsDeb_CA            0.005749  0.015264  0.025770 -0.003952   \n",
       "TransactionsDebCash_Card     -0.044802 -0.017195 -0.014309 -0.004021   \n",
       "TransactionsDebCashless_Card  0.002895 -0.001393  0.027312 -0.010127   \n",
       "TransactionsDeb_PaymentOrder  0.046420  0.055594  0.021407 -0.009832   \n",
       "Sale_MF                       0.048783 -0.029232 -0.005537  0.001482   \n",
       "Sale_CC                      -0.005364  0.044249  0.015303 -0.031212   \n",
       "Sale_CL                      -0.035595 -0.173893  0.180419  0.082731   \n",
       "Revenue_MF                    0.044842  0.047046 -0.007528  0.000978   \n",
       "Revenue_CC                   -0.037741  0.026714  0.000093 -0.022189   \n",
       "Revenue_CL                   -0.026639 -0.128329  0.169554  0.058075   \n",
       "\n",
       "                              ActBal_CA  VolumeCred  VolumeCred_CA  \\\n",
       "Sex                            0.067365    0.000908       0.001253   \n",
       "Age                           -0.033100    0.001972      -0.010758   \n",
       "Tenure                         0.047593   -0.032893      -0.023290   \n",
       "Count_CA                       0.000361   -0.028907      -0.035477   \n",
       "ActBal_CA                      1.000000    0.041870       0.022568   \n",
       "VolumeCred                     0.041870    1.000000       0.924795   \n",
       "VolumeCred_CA                  0.022568    0.924795       1.000000   \n",
       "TransactionsCred               0.119238    0.183499       0.174576   \n",
       "TransactionsCred_CA            0.122376    0.148469       0.156533   \n",
       "VolumeDeb                      0.041733    0.905529       0.820236   \n",
       "VolumeDeb_CA                   0.030203    0.903274       0.832853   \n",
       "VolumeDebCash_Card            -0.010849    0.507850       0.640864   \n",
       "VolumeDebCashless_Card         0.055088    0.205401       0.244209   \n",
       "VolumeDeb_PaymentOrder        -0.021364    0.624811       0.646014   \n",
       "TransactionsDeb                0.104766    0.263258       0.294480   \n",
       "TransactionsDeb_CA             0.075773    0.241972       0.283401   \n",
       "TransactionsDebCash_Card       0.034166    0.082537       0.105394   \n",
       "TransactionsDebCashless_Card   0.073329    0.177502       0.226789   \n",
       "TransactionsDeb_PaymentOrder   0.019533    0.302497       0.335153   \n",
       "Sale_MF                       -0.043749   -0.003366       0.015658   \n",
       "Sale_CC                        0.162384    0.015239      -0.002584   \n",
       "Sale_CL                       -0.055871    0.005082      -0.007060   \n",
       "Revenue_MF                     0.003895    0.026236       0.042530   \n",
       "Revenue_CC                     0.009028    0.018452       0.024065   \n",
       "Revenue_CL                    -0.024567    0.008421      -0.021951   \n",
       "\n",
       "                              TransactionsCred  TransactionsCred_CA  \\\n",
       "Sex                                   0.052882             0.062119   \n",
       "Age                                   0.043815             0.037448   \n",
       "Tenure                               -0.025332            -0.032828   \n",
       "Count_CA                              0.004268             0.011364   \n",
       "ActBal_CA                             0.119238             0.122376   \n",
       "VolumeCred                            0.183499             0.148469   \n",
       "VolumeCred_CA                         0.174576             0.156533   \n",
       "TransactionsCred                      1.000000             0.948487   \n",
       "TransactionsCred_CA                   0.948487             1.000000   \n",
       "VolumeDeb                             0.246522             0.206012   \n",
       "VolumeDeb_CA                          0.192928             0.168080   \n",
       "VolumeDebCash_Card                    0.093767             0.104531   \n",
       "VolumeDebCashless_Card                0.266232             0.258521   \n",
       "VolumeDeb_PaymentOrder                0.134420             0.119594   \n",
       "TransactionsDeb                       0.700556             0.667397   \n",
       "TransactionsDeb_CA                    0.463599             0.492575   \n",
       "TransactionsDebCash_Card              0.254855             0.269750   \n",
       "TransactionsDebCashless_Card          0.320506             0.297702   \n",
       "TransactionsDeb_PaymentOrder          0.412020             0.414069   \n",
       "Sale_MF                               0.073665             0.081221   \n",
       "Sale_CC                               0.033696             0.007772   \n",
       "Sale_CL                               0.083170             0.084753   \n",
       "Revenue_MF                            0.022569             0.023967   \n",
       "Revenue_CC                            0.027156             0.017244   \n",
       "Revenue_CL                            0.046733             0.031194   \n",
       "\n",
       "                              VolumeDeb  ...  TransactionsDeb_CA  \\\n",
       "Sex                            0.010967  ...            0.005749   \n",
       "Age                            0.010380  ...            0.015264   \n",
       "Tenure                        -0.017675  ...            0.025770   \n",
       "Count_CA                      -0.025107  ...           -0.003952   \n",
       "ActBal_CA                      0.041733  ...            0.075773   \n",
       "VolumeCred                     0.905529  ...            0.241972   \n",
       "VolumeCred_CA                  0.820236  ...            0.283401   \n",
       "TransactionsCred               0.246522  ...            0.463599   \n",
       "TransactionsCred_CA            0.206012  ...            0.492575   \n",
       "VolumeDeb                      1.000000  ...            0.302773   \n",
       "VolumeDeb_CA                   0.972864  ...            0.295535   \n",
       "VolumeDebCash_Card             0.378131  ...            0.278151   \n",
       "VolumeDebCashless_Card         0.321308  ...            0.617316   \n",
       "VolumeDeb_PaymentOrder         0.793354  ...            0.216646   \n",
       "TransactionsDeb                0.332166  ...            0.914433   \n",
       "TransactionsDeb_CA             0.302773  ...            1.000000   \n",
       "TransactionsDebCash_Card       0.088213  ...            0.596271   \n",
       "TransactionsDebCashless_Card   0.232814  ...            0.792036   \n",
       "TransactionsDeb_PaymentOrder   0.358278  ...            0.678764   \n",
       "Sale_MF                       -0.036300  ...            0.053412   \n",
       "Sale_CC                        0.055976  ...           -0.010032   \n",
       "Sale_CL                        0.061492  ...            0.064502   \n",
       "Revenue_MF                    -0.016762  ...           -0.022107   \n",
       "Revenue_CC                     0.029173  ...            0.024509   \n",
       "Revenue_CL                     0.054608  ...            0.014431   \n",
       "\n",
       "                              TransactionsDebCash_Card  \\\n",
       "Sex                                          -0.044802   \n",
       "Age                                          -0.017195   \n",
       "Tenure                                       -0.014309   \n",
       "Count_CA                                     -0.004021   \n",
       "ActBal_CA                                     0.034166   \n",
       "VolumeCred                                    0.082537   \n",
       "VolumeCred_CA                                 0.105394   \n",
       "TransactionsCred                              0.254855   \n",
       "TransactionsCred_CA                           0.269750   \n",
       "VolumeDeb                                     0.088213   \n",
       "VolumeDeb_CA                                  0.076276   \n",
       "VolumeDebCash_Card                            0.327110   \n",
       "VolumeDebCashless_Card                        0.225006   \n",
       "VolumeDeb_PaymentOrder                        0.005115   \n",
       "TransactionsDeb                               0.561794   \n",
       "TransactionsDeb_CA                            0.596271   \n",
       "TransactionsDebCash_Card                      1.000000   \n",
       "TransactionsDebCashless_Card                  0.349361   \n",
       "TransactionsDeb_PaymentOrder                  0.184981   \n",
       "Sale_MF                                      -0.001596   \n",
       "Sale_CC                                       0.067780   \n",
       "Sale_CL                                       0.075577   \n",
       "Revenue_MF                                   -0.027620   \n",
       "Revenue_CC                                    0.038117   \n",
       "Revenue_CL                                    0.037512   \n",
       "\n",
       "                              TransactionsDebCashless_Card  \\\n",
       "Sex                                               0.002895   \n",
       "Age                                              -0.001393   \n",
       "Tenure                                            0.027312   \n",
       "Count_CA                                         -0.010127   \n",
       "ActBal_CA                                         0.073329   \n",
       "VolumeCred                                        0.177502   \n",
       "VolumeCred_CA                                     0.226789   \n",
       "TransactionsCred                                  0.320506   \n",
       "TransactionsCred_CA                               0.297702   \n",
       "VolumeDeb                                         0.232814   \n",
       "VolumeDeb_CA                                      0.222753   \n",
       "VolumeDebCash_Card                                0.152536   \n",
       "VolumeDebCashless_Card                            0.690777   \n",
       "VolumeDeb_PaymentOrder                            0.186524   \n",
       "TransactionsDeb                                   0.795921   \n",
       "TransactionsDeb_CA                                0.792036   \n",
       "TransactionsDebCash_Card                          0.349361   \n",
       "TransactionsDebCashless_Card                      1.000000   \n",
       "TransactionsDeb_PaymentOrder                      0.369548   \n",
       "Sale_MF                                           0.124722   \n",
       "Sale_CC                                          -0.048920   \n",
       "Sale_CL                                           0.014136   \n",
       "Revenue_MF                                        0.008422   \n",
       "Revenue_CC                                       -0.011745   \n",
       "Revenue_CL                                       -0.023572   \n",
       "\n",
       "                              TransactionsDeb_PaymentOrder   Sale_MF  \\\n",
       "Sex                                               0.046420  0.048783   \n",
       "Age                                               0.055594 -0.029232   \n",
       "Tenure                                            0.021407 -0.005537   \n",
       "Count_CA                                         -0.009832  0.001482   \n",
       "ActBal_CA                                         0.019533 -0.043749   \n",
       "VolumeCred                                        0.302497 -0.003366   \n",
       "VolumeCred_CA                                     0.335153  0.015658   \n",
       "TransactionsCred                                  0.412020  0.073665   \n",
       "TransactionsCred_CA                               0.414069  0.081221   \n",
       "VolumeDeb                                         0.358278 -0.036300   \n",
       "VolumeDeb_CA                                      0.356741 -0.032684   \n",
       "VolumeDebCash_Card                                0.209386 -0.030535   \n",
       "VolumeDebCashless_Card                            0.362673  0.001447   \n",
       "VolumeDeb_PaymentOrder                            0.320460 -0.012854   \n",
       "TransactionsDeb                                   0.658028  0.082046   \n",
       "TransactionsDeb_CA                                0.678764  0.053412   \n",
       "TransactionsDebCash_Card                          0.184981 -0.001596   \n",
       "TransactionsDebCashless_Card                      0.369548  0.124722   \n",
       "TransactionsDeb_PaymentOrder                      1.000000  0.022197   \n",
       "Sale_MF                                           0.022197  1.000000   \n",
       "Sale_CC                                          -0.010812 -0.018724   \n",
       "Sale_CL                                           0.048910 -0.015069   \n",
       "Revenue_MF                                       -0.006858  0.387611   \n",
       "Revenue_CC                                        0.021612 -0.016969   \n",
       "Revenue_CL                                        0.007201  0.003911   \n",
       "\n",
       "                               Sale_CC   Sale_CL  Revenue_MF  Revenue_CC  \\\n",
       "Sex                          -0.005364 -0.035595    0.044842   -0.037741   \n",
       "Age                           0.044249 -0.173893    0.047046    0.026714   \n",
       "Tenure                        0.015303  0.180419   -0.007528    0.000093   \n",
       "Count_CA                     -0.031212  0.082731    0.000978   -0.022189   \n",
       "ActBal_CA                     0.162384 -0.055871    0.003895    0.009028   \n",
       "VolumeCred                    0.015239  0.005082    0.026236    0.018452   \n",
       "VolumeCred_CA                -0.002584 -0.007060    0.042530    0.024065   \n",
       "TransactionsCred              0.033696  0.083170    0.022569    0.027156   \n",
       "TransactionsCred_CA           0.007772  0.084753    0.023967    0.017244   \n",
       "VolumeDeb                     0.055976  0.061492   -0.016762    0.029173   \n",
       "VolumeDeb_CA                  0.048889  0.039594   -0.015370    0.028365   \n",
       "VolumeDebCash_Card           -0.009395  0.015153   -0.020262   -0.011469   \n",
       "VolumeDebCashless_Card       -0.013380  0.036756   -0.020607   -0.017680   \n",
       "VolumeDeb_PaymentOrder        0.078811  0.051313   -0.010829    0.049989   \n",
       "TransactionsDeb              -0.000405  0.068233   -0.003426    0.018276   \n",
       "TransactionsDeb_CA           -0.010032  0.064502   -0.022107    0.024509   \n",
       "TransactionsDebCash_Card      0.067780  0.075577   -0.027620    0.038117   \n",
       "TransactionsDebCashless_Card -0.048920  0.014136    0.008422   -0.011745   \n",
       "TransactionsDeb_PaymentOrder -0.010812  0.048910   -0.006858    0.021612   \n",
       "Sale_MF                      -0.018724 -0.015069    0.387611   -0.016969   \n",
       "Sale_CC                       1.000000 -0.015973   -0.001625    0.266215   \n",
       "Sale_CL                      -0.015973  1.000000    0.013536   -0.004591   \n",
       "Revenue_MF                   -0.001625  0.013536    1.000000   -0.019329   \n",
       "Revenue_CC                    0.266215 -0.004591   -0.019329    1.000000   \n",
       "Revenue_CL                    0.060569  0.710391   -0.011593    0.016534   \n",
       "\n",
       "                              Revenue_CL  \n",
       "Sex                            -0.026639  \n",
       "Age                            -0.128329  \n",
       "Tenure                          0.169554  \n",
       "Count_CA                        0.058075  \n",
       "ActBal_CA                      -0.024567  \n",
       "VolumeCred                      0.008421  \n",
       "VolumeCred_CA                  -0.021951  \n",
       "TransactionsCred                0.046733  \n",
       "TransactionsCred_CA             0.031194  \n",
       "VolumeDeb                       0.054608  \n",
       "VolumeDeb_CA                    0.038276  \n",
       "VolumeDebCash_Card              0.009560  \n",
       "VolumeDebCashless_Card          0.008076  \n",
       "VolumeDeb_PaymentOrder          0.055015  \n",
       "TransactionsDeb                 0.017246  \n",
       "TransactionsDeb_CA              0.014431  \n",
       "TransactionsDebCash_Card        0.037512  \n",
       "TransactionsDebCashless_Card   -0.023572  \n",
       "TransactionsDeb_PaymentOrder    0.007201  \n",
       "Sale_MF                         0.003911  \n",
       "Sale_CC                         0.060569  \n",
       "Sale_CL                         0.710391  \n",
       "Revenue_MF                     -0.011593  \n",
       "Revenue_CC                      0.016534  \n",
       "Revenue_CL                      1.000000  \n",
       "\n",
       "[25 rows x 25 columns]"
      ]
     },
     "execution_count": 4,
     "metadata": {},
     "output_type": "execute_result"
    }
   ],
   "source": [
    "corr = df.corr()\n",
    "corr"
   ]
  },
  {
   "cell_type": "code",
   "execution_count": 5,
   "metadata": {},
   "outputs": [
    {
     "data": {
      "text/plain": [
       "<matplotlib.axes._subplots.AxesSubplot at 0x16033e10>"
      ]
     },
     "execution_count": 5,
     "metadata": {},
     "output_type": "execute_result"
    },
    {
     "data": {
      "image/png": "[encoded data removed]",
      "text/plain": [
       "<Figure size 432x288 with 2 Axes>"
      ]
     },
     "metadata": {
      "needs_background": "light"
     },
     "output_type": "display_data"
    }
   ],
   "source": [
    "sns.heatmap(corr)"
   ]
  },
  {
   "cell_type": "markdown",
   "metadata": {},
   "source": [
    " 2. Customer analysis and sales prediction - building model \n",
    " [1] Logistic Regression"
   ]
  },
  {
   "cell_type": "code",
   "execution_count": 6,
   "metadata": {
    "collapsed": true
   },
   "outputs": [],
   "source": [
    "x = df.iloc[:,0:-6]\n",
    "y_mf = df.iloc[:,-6] #Sale_MF\n",
    "x_train,x_test, mf_train, mf_test = train_test_split(x,y_mf,test_size=0.2, random_state=0)\n"
   ]
  },
  {
   "cell_type": "code",
   "execution_count": 7,
   "metadata": {},
   "outputs": [
    {
     "name": "stderr",
     "output_type": "stream",
     "text": [
      "c:\\python27\\lib\\site-packages\\sklearn\\linear_model\\logistic.py:433: FutureWarning: Default solver will be changed to 'lbfgs' in 0.22. Specify a solver to silence this warning.\n",
      "  FutureWarning)\n"
     ]
    },
    {
     "data": {
      "text/plain": [
       "LogisticRegression(C=1.0, class_weight=None, dual=False, fit_intercept=True,\n",
       "          intercept_scaling=1, max_iter=1000, multi_class='warn',\n",
       "          n_jobs=None, penalty='l2', random_state=None, solver='warn',\n",
       "          tol=0.0001, verbose=0, warm_start=False)"
      ]
     },
     "execution_count": 7,
     "metadata": {},
     "output_type": "execute_result"
    }
   ],
   "source": [
    "model_mf = LogisticRegression(penalty='l2', max_iter=1000)\n",
    "model_mf.fit(x_train, mf_train)"
   ]
  },
  {
   "cell_type": "code",
   "execution_count": 8,
   "metadata": {},
   "outputs": [
    {
     "data": {
      "text/plain": [
       "0.7643979057591623"
      ]
     },
     "execution_count": 8,
     "metadata": {},
     "output_type": "execute_result"
    }
   ],
   "source": [
    "prediction_mf=model_mf.predict(x_test)\n",
    "from sklearn.metrics import accuracy_score\n",
    "#Check the accuracy score\n",
    "accuracy_score(mf_test, prediction_mf)"
   ]
  },
  {
   "cell_type": "code",
   "execution_count": 9,
   "metadata": {},
   "outputs": [
    {
     "name": "stdout",
     "output_type": "stream",
     "text": [
      "('MF:', array([[141,   1],\n",
      "       [ 44,   5]], dtype=int64))\n",
      "('MF precision:', 0.8333333333333334)\n",
      "('MF recall:', 0.10204081632653061)\n",
      "('MF F1:', 0.18181818181818182)\n"
     ]
    }
   ],
   "source": [
    "#Check confusion matrix to evaluate the model\n",
    "from sklearn.metrics import confusion_matrix\n",
    "confusion_matrix = confusion_matrix(mf_test, prediction_mf)\n",
    "print('MF:',confusion_matrix)\n",
    "from sklearn.metrics import precision_score\n",
    "print('MF precision:',precision_score(mf_test, prediction_mf))\n",
    "from sklearn.metrics import recall_score\n",
    "print('MF recall:',recall_score(mf_test, prediction_mf))\n",
    "from sklearn.metrics import f1_score\n",
    "print('MF F1:',f1_score(mf_test, prediction_mf))\n"
   ]
  },
  {
   "cell_type": "code",
   "execution_count": 10,
   "metadata": {},
   "outputs": [
    {
     "name": "stdout",
     "output_type": "stream",
     "text": [
      "0    0.810526\n",
      "1    0.189474\n",
      "Name: Sale_MF, dtype: float64\n",
      "1    0.5\n",
      "0    0.5\n",
      "dtype: float64\n"
     ]
    }
   ],
   "source": [
    "from imblearn.over_sampling import SMOTE\n",
    "samples_mf = SMOTE()\n",
    "samples_mf_x,samples_mf_y = samples_mf.fit_sample(x_train, mf_train)\n",
    "print(mf_train.value_counts()/len(mf_train))\n",
    "print(pd.Series(samples_mf_y).value_counts()/len(samples_mf_y))\n"
   ]
  },
  {
   "cell_type": "code",
   "execution_count": 11,
   "metadata": {},
   "outputs": [
    {
     "name": "stderr",
     "output_type": "stream",
     "text": [
      "c:\\python27\\lib\\site-packages\\sklearn\\linear_model\\logistic.py:758: ConvergenceWarning: lbfgs failed to converge. Increase the number of iterations.\n",
      "  \"of iterations.\", ConvergenceWarning)\n"
     ]
    },
    {
     "data": {
      "text/plain": [
       "LogisticRegression(C=1.0, class_weight=None, dual=False, fit_intercept=True,\n",
       "          intercept_scaling=1, max_iter=1000, multi_class='multinomial',\n",
       "          n_jobs=None, penalty='l2', random_state=None, solver='lbfgs',\n",
       "          tol=0.0001, verbose=0, warm_start=False)"
      ]
     },
     "execution_count": 11,
     "metadata": {},
     "output_type": "execute_result"
    }
   ],
   "source": [
    "model_mf2 = LogisticRegression(penalty='l2', class_weight=None, solver='lbfgs', max_iter=1000, multi_class='multinomial')\n",
    "model_mf2.fit(samples_mf_x,samples_mf_y)"
   ]
  },
  {
   "cell_type": "code",
   "execution_count": 12,
   "metadata": {},
   "outputs": [
    {
     "data": {
      "text/plain": [
       "0.6544502617801047"
      ]
     },
     "execution_count": 12,
     "metadata": {},
     "output_type": "execute_result"
    }
   ],
   "source": [
    "prediction_mf2=model_mf2.predict(x_test)\n",
    "from sklearn.metrics import accuracy_score\n",
    "#Check the accuracy score\n",
    "accuracy_score(mf_test, prediction_mf2)"
   ]
  },
  {
   "cell_type": "code",
   "execution_count": 13,
   "metadata": {
    "scrolled": true
   },
   "outputs": [
    {
     "name": "stdout",
     "output_type": "stream",
     "text": [
      "('MF:', array([[105,  37],\n",
      "       [ 29,  20]], dtype=int64))\n",
      "('MF precision:', 0.3508771929824561)\n",
      "('MF recall:', 0.40816326530612246)\n",
      "('MF F1:', 0.3773584905660377)\n"
     ]
    }
   ],
   "source": [
    "from sklearn.metrics import confusion_matrix\n",
    "confusion_matrix = confusion_matrix(mf_test, prediction_mf2)\n",
    "print('MF:',confusion_matrix)\n",
    "from sklearn.metrics import precision_score\n",
    "print('MF precision:',precision_score(mf_test, prediction_mf2))\n",
    "from sklearn.metrics import recall_score\n",
    "print('MF recall:',recall_score(mf_test, prediction_mf2))\n",
    "from sklearn.metrics import f1_score\n",
    "print('MF F1:',f1_score(mf_test, prediction_mf2))"
   ]
  },
  {
   "cell_type": "code",
   "execution_count": 14,
   "metadata": {},
   "outputs": [
    {
     "data": {
      "text/plain": [
       "0.6544502617801047"
      ]
     },
     "execution_count": 14,
     "metadata": {},
     "output_type": "execute_result"
    }
   ],
   "source": [
    "prediction_mf2=model_mf2.predict(x_test)\n",
    "accuracy_score(mf_test, prediction_mf2)"
   ]
  },
  {
   "cell_type": "markdown",
   "metadata": {},
   "source": [
    "Based on the recall and F1, the revised Logistic Regression works better. But the accuracy has decreased.\n",
    "\n",
    "[2]Decision tree:"
   ]
  },
  {
   "cell_type": "code",
   "execution_count": 15,
   "metadata": {
    "collapsed": true
   },
   "outputs": [],
   "source": [
    "dt_mf = tree.DecisionTreeClassifier() \n",
    "dt_mf.fit(x_train,mf_train)\n",
    "pred_mf = dt_mf.predict(x_test)"
   ]
  },
  {
   "cell_type": "code",
   "execution_count": 16,
   "metadata": {},
   "outputs": [
    {
     "name": "stdout",
     "output_type": "stream",
     "text": [
      "0.675392670157068\n",
      "              precision    recall  f1-score   support\n",
      "\n",
      "           0       0.76      0.82      0.79       142\n",
      "           1       0.33      0.27      0.30        49\n",
      "\n",
      "   micro avg       0.68      0.68      0.68       191\n",
      "   macro avg       0.55      0.54      0.54       191\n",
      "weighted avg       0.65      0.68      0.66       191\n",
      "\n"
     ]
    }
   ],
   "source": [
    "print(metrics.accuracy_score(mf_test, pred_mf))\n",
    "print(metrics.classification_report(mf_test, pred_mf))"
   ]
  },
  {
   "cell_type": "code",
   "execution_count": 17,
   "metadata": {},
   "outputs": [
    {
     "name": "stdout",
     "output_type": "stream",
     "text": [
      "('MF:', array([[116,  26],\n",
      "       [ 36,  13]], dtype=int64))\n",
      "('MF precision:', 0.3333333333333333)\n",
      "('MF recall:', 0.2653061224489796)\n",
      "('MF F1:', 0.29545454545454547)\n"
     ]
    }
   ],
   "source": [
    "    # check the confusion matrix\n",
    "from sklearn.metrics import confusion_matrix\n",
    "confusion_matrix = confusion_matrix(mf_test, pred_mf)\n",
    "print('MF:',confusion_matrix)\n",
    "\n",
    "    # evaluation\n",
    "from sklearn.metrics import precision_score\n",
    "precision = precision_score(mf_test, pred_mf)\n",
    "print('MF precision:',precision)\n",
    "\n",
    "from sklearn.metrics import recall_score\n",
    "recall = recall_score(mf_test, pred_mf)\n",
    "print('MF recall:',recall)\n",
    "\n",
    "from sklearn.metrics import f1_score\n",
    "print('MF F1:',f1_score(mf_test, pred_mf))\n"
   ]
  },
  {
   "cell_type": "code",
   "execution_count": 18,
   "metadata": {},
   "outputs": [
    {
     "name": "stdout",
     "output_type": "stream",
     "text": [
      "0.6649214659685864\n",
      "              precision    recall  f1-score   support\n",
      "\n",
      "           0       0.78      0.76      0.77       142\n",
      "           1       0.36      0.39      0.37        49\n",
      "\n",
      "   micro avg       0.66      0.66      0.66       191\n",
      "   macro avg       0.57      0.57      0.57       191\n",
      "weighted avg       0.67      0.66      0.67       191\n",
      "\n"
     ]
    }
   ],
   "source": [
    "dt_mf2 = tree.DecisionTreeClassifier() \n",
    "dt_mf2.fit(samples_mf_x,samples_mf_y)\n",
    "pred_mf2 =dt_mf2.predict(np.array(x_test))\n",
    "\n",
    "print(metrics.accuracy_score(mf_test, pred_mf2))\n",
    "print(metrics.classification_report(mf_test, pred_mf2))"
   ]
  },
  {
   "cell_type": "code",
   "execution_count": 19,
   "metadata": {},
   "outputs": [
    {
     "name": "stdout",
     "output_type": "stream",
     "text": [
      "('MF:', array([[108,  34],\n",
      "       [ 30,  19]], dtype=int64))\n",
      "('MF precision:', 0.3584905660377358)\n",
      "('MF recall:', 0.3877551020408163)\n",
      "('MF F1:', 0.37254901960784315)\n"
     ]
    }
   ],
   "source": [
    "    # check the confusion matrix\n",
    "from sklearn.metrics import confusion_matrix\n",
    "confusion_matrix = confusion_matrix(mf_test, pred_mf2)\n",
    "print('MF:',confusion_matrix)\n",
    "\n",
    "    # evaluation\n",
    "precision = precision_score(mf_test, pred_mf2)\n",
    "print('MF precision:',precision)\n",
    "\n",
    "recall = recall_score(mf_test, pred_mf2)\n",
    "print('MF recall:',recall)\n",
    "\n",
    "print('MF F1:',f1_score(mf_test, pred_mf2))\n"
   ]
  },
  {
   "cell_type": "markdown",
   "metadata": {},
   "source": [
    "The Revised Decision Tree is the better model for MF sales classification.\n",
    "\n",
    "3. Build Linear Regression for Revenue."
   ]
  },
  {
   "cell_type": "code",
   "execution_count": 20,
   "metadata": {
    "collapsed": true
   },
   "outputs": [],
   "source": [
    "#modify train data - add MF account number and account balance.\n",
    "df_mf = pd.read_csv('model/base.csv')\n",
    "df_mf = df_mf.replace(np.nan, 0)\n",
    "del_cols_mf = ['CLIENT', 'Count_SA', 'Count_OVD', 'Count_CC', 'Count_CL','ActBal_SA', 'ActBal_OVD', 'ActBal_CC', 'ActBal_CL']\n",
    "for col in del_cols_mf:\n",
    "    del df_mf[col]"
   ]
  },
  {
   "cell_type": "code",
   "execution_count": 21,
   "metadata": {
    "collapsed": true
   },
   "outputs": [],
   "source": [
    "mf_rev_x = df_mf.iloc[:,:-6]\n",
    "mf_rev_y = df_mf.iloc[:,-3]\n",
    "\n",
    "x_rev_train,x_rev_val, mf_rev_train, mf_rev_val = train_test_split(mf_rev_x,mf_rev_y,test_size=0.2, random_state=0)"
   ]
  },
  {
   "cell_type": "code",
   "execution_count": 22,
   "metadata": {},
   "outputs": [
    {
     "name": "stdout",
     "output_type": "stream",
     "text": [
      "('MF SVR Score:', 0.013325526033488022)\n"
     ]
    }
   ],
   "source": [
    "model_mf_rev = LinearRegression()\n",
    "model_mf_rev.fit(mf_rev_x, mf_rev_y)\n",
    "mf_rev_pred = model_mf_rev.predict(x_rev_val)\n",
    "print('MF SVR Score:',model_mf_rev.score(x_rev_val,mf_rev_val))"
   ]
  },
  {
   "cell_type": "code",
   "execution_count": 23,
   "metadata": {
    "collapsed": true
   },
   "outputs": [],
   "source": [
    "#predict the revenue of MF based on test data.\n",
    "df_test = pd.read_csv('model/test.csv')\n",
    "df_test = df_test.replace(np.nan, 0)\n",
    "del_cols = [ 'CLIENT', 'Count_SA','Count_OVD', 'Count_CC', 'Count_CL','ActBal_SA','ActBal_OVD', 'ActBal_CC', 'ActBal_CL']\n",
    "for col in del_cols:\n",
    "    del df_test[col]"
   ]
  },
  {
   "cell_type": "code",
   "execution_count": 24,
   "metadata": {
    "collapsed": true
   },
   "outputs": [],
   "source": [
    "prediction_mf_rev = model_mf_rev.predict(df_test)"
   ]
  },
  {
   "cell_type": "code",
   "execution_count": 25,
   "metadata": {
    "collapsed": true
   },
   "outputs": [],
   "source": [
    "# predict the sale of MF based on test data.\n",
    "df_test_x = pd.read_csv('model/test.csv')\n",
    "df_test_x = df_test_x .replace(np.nan, 0)\n",
    "del_cols = [ 'CLIENT', 'Count_SA','Count_MF','Count_OVD', 'Count_CC', 'Count_CL','ActBal_SA','ActBal_MF','ActBal_OVD', 'ActBal_CC', 'ActBal_CL']\n",
    "for col in del_cols:\n",
    "    del df_test_x [col]"
   ]
  },
  {
   "cell_type": "code",
   "execution_count": 26,
   "metadata": {
    "collapsed": true
   },
   "outputs": [],
   "source": [
    "prediction_mf2=dt_mf2.predict(df_test_x)"
   ]
  },
  {
   "cell_type": "code",
   "execution_count": 27,
   "metadata": {},
   "outputs": [
    {
     "name": "stdout",
     "output_type": "stream",
     "text": [
      "('MF SVR Score:', 0.013325526033488022)\n"
     ]
    }
   ],
   "source": [
    "mf_rev_x = df_mf.iloc[:,:-6]\n",
    "mf_rev_y = df_mf.iloc[:,-3]\n",
    "\n",
    "x_rev_train,x_rev_val, mf_rev_train, mf_rev_val = train_test_split(mf_rev_x,mf_rev_y,test_size=0.2, random_state=0)\n",
    "model_mf_rev = LinearRegression()\n",
    "model_mf_rev.fit(mf_rev_x, mf_rev_y)\n",
    "mf_rev_pred = model_mf_rev.predict(x_rev_val)\n",
    "print('MF SVR Score:',model_mf_rev.score(x_rev_val,mf_rev_val))"
   ]
  },
  {
   "cell_type": "code",
   "execution_count": 28,
   "metadata": {
    "collapsed": true
   },
   "outputs": [],
   "source": [
    "#export the predicted result: Sale and Revenue for MF\n",
    "np.savetxt('sale_mf.csv',prediction_mf2,delimiter=\",\")\n",
    "np.savetxt('rev_mf.csv',prediction_mf_rev,delimiter=\",\")"
   ]
  },
  {
   "cell_type": "markdown",
   "metadata": {},
   "source": [
    "4. Below is the similar process for CC and CL."
   ]
  },
  {
   "cell_type": "code",
   "execution_count": 41,
   "metadata": {},
   "outputs": [
    {
     "data": {
      "text/plain": [
       "DecisionTreeClassifier(class_weight=None, criterion='gini', max_depth=None,\n",
       "            max_features=None, max_leaf_nodes=None,\n",
       "            min_impurity_decrease=0.0, min_impurity_split=None,\n",
       "            min_samples_leaf=1, min_samples_split=2,\n",
       "            min_weight_fraction_leaf=0.0, presort=False, random_state=None,\n",
       "            splitter='best')"
      ]
     },
     "execution_count": 41,
     "metadata": {},
     "output_type": "execute_result"
    }
   ],
   "source": [
    "# Build Decision Tree for CC sale classification.\n",
    "x = df.iloc[:,:-6]\n",
    "y_cc = df.iloc[:,-5] #Sale_CC\n",
    "x_train,x_test, cc_train, cc_test = train_test_split(x,y_cc,test_size=0.2, random_state=0)\n",
    "dt_cc = tree.DecisionTreeClassifier() \n",
    "dt_cc.fit(x_train,cc_train)"
   ]
  },
  {
   "cell_type": "code",
   "execution_count": 42,
   "metadata": {},
   "outputs": [
    {
     "name": "stdout",
     "output_type": "stream",
     "text": [
      "0.6387434554973822\n",
      "              precision    recall  f1-score   support\n",
      "\n",
      "           0       0.78      0.72      0.75       143\n",
      "           1       0.32      0.40      0.36        48\n",
      "\n",
      "   micro avg       0.64      0.64      0.64       191\n",
      "   macro avg       0.55      0.56      0.55       191\n",
      "weighted avg       0.67      0.64      0.65       191\n",
      "\n"
     ]
    }
   ],
   "source": [
    "pred_cc = dt_cc.predict(x_test)\n",
    "print(metrics.accuracy_score(cc_test, pred_cc))\n",
    "print(metrics.classification_report(cc_test, pred_cc))"
   ]
  },
  {
   "cell_type": "code",
   "execution_count": 43,
   "metadata": {},
   "outputs": [
    {
     "name": "stdout",
     "output_type": "stream",
     "text": [
      "('CC:', array([[103,  40],\n",
      "       [ 29,  19]], dtype=int64))\n",
      "('CC precision:', 0.3220338983050847)\n",
      "('CC recall:', 0.3958333333333333)\n",
      "('CC F1:', 0.35514018691588783)\n"
     ]
    }
   ],
   "source": [
    "#Check confusion matrix to evaluate the model\n",
    "from sklearn.metrics import confusion_matrix\n",
    "confusion_matrix = confusion_matrix(cc_test, pred_cc)\n",
    "print('CC:',confusion_matrix)\n",
    "print('CC precision:',precision_score(cc_test, pred_cc))\n",
    "print('CC recall:',recall_score(cc_test, pred_cc))\n",
    "print('CC F1:',f1_score(cc_test, pred_cc))"
   ]
  },
  {
   "cell_type": "code",
   "execution_count": 44,
   "metadata": {},
   "outputs": [
    {
     "data": {
      "text/plain": [
       "DecisionTreeClassifier(class_weight=None, criterion='gini', max_depth=None,\n",
       "            max_features=None, max_leaf_nodes=None,\n",
       "            min_impurity_decrease=0.0, min_impurity_split=None,\n",
       "            min_samples_leaf=1, min_samples_split=2,\n",
       "            min_weight_fraction_leaf=0.0, presort=False, random_state=None,\n",
       "            splitter='best')"
      ]
     },
     "execution_count": 44,
     "metadata": {},
     "output_type": "execute_result"
    }
   ],
   "source": [
    "# Use SMOTE to balance the data and revise the model\n",
    "samples_cc = SMOTE()\n",
    "samples_cc_x,samples_cc_y = samples_cc.fit_sample(x_train, cc_train)\n",
    "dt_cc2 = tree.DecisionTreeClassifier() \n",
    "dt_cc2.fit(samples_cc_x,samples_cc_y)"
   ]
  },
  {
   "cell_type": "code",
   "execution_count": 45,
   "metadata": {},
   "outputs": [
    {
     "name": "stdout",
     "output_type": "stream",
     "text": [
      "0.6282722513089005\n",
      "              precision    recall  f1-score   support\n",
      "\n",
      "           0       0.76      0.73      0.75       143\n",
      "           1       0.29      0.33      0.31        48\n",
      "\n",
      "   micro avg       0.63      0.63      0.63       191\n",
      "   macro avg       0.53      0.53      0.53       191\n",
      "weighted avg       0.65      0.63      0.64       191\n",
      "\n"
     ]
    }
   ],
   "source": [
    "pred_cc2 =dt_cc2.predict(np.array(x_test))\n",
    "print(metrics.accuracy_score(cc_test, pred_cc2))\n",
    "print(metrics.classification_report(cc_test, pred_cc2))"
   ]
  },
  {
   "cell_type": "code",
   "execution_count": 46,
   "metadata": {},
   "outputs": [
    {
     "name": "stdout",
     "output_type": "stream",
     "text": [
      "('CC:', array([[104,  39],\n",
      "       [ 32,  16]], dtype=int64))\n",
      "('CC precision:', 0.2909090909090909)\n",
      "('CC recall:', 0.3333333333333333)\n",
      "('CC F1:', 0.31067961165048535)\n"
     ]
    }
   ],
   "source": [
    "from sklearn.metrics import confusion_matrix\n",
    "confusion_matrix = confusion_matrix(cc_test, pred_cc2)\n",
    "print('CC:',confusion_matrix)\n",
    "from sklearn.metrics import precision_score\n",
    "print('CC precision:',precision_score(cc_test, pred_cc2))\n",
    "from sklearn.metrics import recall_score\n",
    "print('CC recall:',recall_score(cc_test, pred_cc2))\n",
    "from sklearn.metrics import f1_score\n",
    "print('CC F1:',f1_score(cc_test, pred_cc2))"
   ]
  },
  {
   "cell_type": "raw",
   "metadata": {},
   "source": [
    "Since the original model is more accurate, we will use the original Decision Tree model"
   ]
  },
  {
   "cell_type": "code",
   "execution_count": 47,
   "metadata": {
    "collapsed": true
   },
   "outputs": [],
   "source": [
    "#Build linear regression for revenue of CC.\n",
    "#modify train data - add CC account number and account balance.\n",
    "df_cc = pd.read_csv('model/base.csv')\n",
    "df_cc = df_cc.replace(np.nan, 0)\n",
    "del_cols_cc = ['CLIENT', 'Count_SA', 'Count_OVD', 'Count_MF', 'Count_CL','ActBal_SA', 'ActBal_OVD', 'ActBal_MF', 'ActBal_CL']\n",
    "for col in del_cols_cc:\n",
    "    del df_cc[col]"
   ]
  },
  {
   "cell_type": "code",
   "execution_count": 48,
   "metadata": {
    "collapsed": true
   },
   "outputs": [],
   "source": [
    "#Build Linear Regression for Revenue.\n",
    "\n",
    "cc_rev_x = df_cc.iloc[:,:-6]\n",
    "cc_rev_y = df_cc.iloc[:,-2]\n",
    "\n",
    "x_rev_train,x_rev_val, cc_rev_train, cc_rev_val = train_test_split(cc_rev_x,cc_rev_y,test_size=0.2, random_state=0)\n"
   ]
  },
  {
   "cell_type": "code",
   "execution_count": 49,
   "metadata": {},
   "outputs": [
    {
     "name": "stdout",
     "output_type": "stream",
     "text": [
      "('CC SVR Score:', -0.02579304016855888)\n"
     ]
    }
   ],
   "source": [
    "model_cc_rev = LinearRegression()\n",
    "model_cc_rev.fit(cc_rev_x, cc_rev_y)\n",
    "mf_rev_pred = model_cc_rev.predict(x_rev_val)\n",
    "print('CC SVR Score:',model_cc_rev.score(x_rev_val,cc_rev_val))"
   ]
  },
  {
   "cell_type": "code",
   "execution_count": 50,
   "metadata": {
    "collapsed": true
   },
   "outputs": [],
   "source": [
    "#predict the revenue of CC based on test data.\n",
    "df_test = pd.read_csv('model/test.csv')\n",
    "df_test = df_test.replace(np.nan, 0)\n",
    "del_cols = [ 'CLIENT', 'Count_SA','Count_OVD', 'Count_CC', 'Count_MF','ActBal_SA','ActBal_OVD', 'ActBal_MF', 'ActBal_CL']\n",
    "for col in del_cols:\n",
    "    del df_test[col]\n",
    "prediction2 = model_cc_rev.predict(df_test)"
   ]
  },
  {
   "cell_type": "code",
   "execution_count": 51,
   "metadata": {
    "collapsed": true
   },
   "outputs": [],
   "source": [
    "# Load test data to predict the revenue of CC.\n",
    "df_test1 = pd.read_csv('model/test.csv')\n",
    "df_test1 = df_test1.replace(np.nan, 0)\n",
    "del_cols = [ 'CLIENT', 'Count_SA','Count_OVD', 'Count_MF', 'Count_CL','ActBal_SA','ActBal_OVD', 'ActBal_MF', 'ActBal_CL']\n",
    "for col in del_cols:\n",
    "    del df_test1[col]"
   ]
  },
  {
   "cell_type": "code",
   "execution_count": 52,
   "metadata": {
    "collapsed": true
   },
   "outputs": [],
   "source": [
    "prediction_cc_rev = model_cc_rev.predict(df_test1)"
   ]
  },
  {
   "cell_type": "code",
   "execution_count": 53,
   "metadata": {
    "collapsed": true
   },
   "outputs": [],
   "source": [
    "# Load test data to predict the sales of CC.\n",
    "\n",
    "df_test_x = pd.read_csv('model/test.csv')\n",
    "df_test_x = df_test_x.replace(np.nan, 0)\n",
    "del_cols = [ 'CLIENT', 'Count_SA','Count_MF','Count_OVD', 'Count_CC', 'Count_CL','ActBal_SA','ActBal_MF','ActBal_OVD', 'ActBal_CC', 'ActBal_CL']\n",
    "for col in del_cols:\n",
    "    del df_test_x [col]\n",
    "\n",
    "prediction_cc2=dt_cc.predict(df_test_x)"
   ]
  },
  {
   "cell_type": "code",
   "execution_count": 54,
   "metadata": {
    "collapsed": true
   },
   "outputs": [],
   "source": [
    "#export the predicted result: Sale and Revenue for CC\n",
    "import numpy\n",
    "np.savetxt('sale_cc.csv',prediction_cc2,delimiter=\",\")\n",
    "np.savetxt('rev_cc.csv',prediction_cc_rev,delimiter=\",\")"
   ]
  },
  {
   "cell_type": "code",
   "execution_count": 55,
   "metadata": {},
   "outputs": [
    {
     "data": {
      "text/plain": [
       "DecisionTreeClassifier(class_weight=None, criterion='gini', max_depth=None,\n",
       "            max_features=None, max_leaf_nodes=None,\n",
       "            min_impurity_decrease=0.0, min_impurity_split=None,\n",
       "            min_samples_leaf=1, min_samples_split=2,\n",
       "            min_weight_fraction_leaf=0.0, presort=False, random_state=None,\n",
       "            splitter='best')"
      ]
     },
     "execution_count": 55,
     "metadata": {},
     "output_type": "execute_result"
    }
   ],
   "source": [
    "# Build Decision Tree for CL sale classification.\n",
    "x = df.iloc[:,:-6]\n",
    "y_cl = df.iloc[:,-4] #Sale_CL\n",
    "x_train,x_test, cl_train, cl_test = train_test_split(x,y_cl,test_size=0.2, random_state=0)\n",
    "dt_cl = tree.DecisionTreeClassifier() \n",
    "dt_cl.fit(x_train,cl_train)"
   ]
  },
  {
   "cell_type": "code",
   "execution_count": 56,
   "metadata": {},
   "outputs": [
    {
     "name": "stdout",
     "output_type": "stream",
     "text": [
      "0.6649214659685864\n",
      "              precision    recall  f1-score   support\n",
      "\n",
      "           0       0.75      0.77      0.76       133\n",
      "           1       0.44      0.41      0.43        58\n",
      "\n",
      "   micro avg       0.66      0.66      0.66       191\n",
      "   macro avg       0.60      0.59      0.60       191\n",
      "weighted avg       0.66      0.66      0.66       191\n",
      "\n"
     ]
    }
   ],
   "source": [
    "pred_cl = dt_cl.predict(x_test)\n",
    "print(metrics.accuracy_score(cl_test, pred_cl))\n",
    "print(metrics.classification_report(cl_test, pred_cl))"
   ]
  },
  {
   "cell_type": "code",
   "execution_count": 57,
   "metadata": {},
   "outputs": [
    {
     "name": "stdout",
     "output_type": "stream",
     "text": [
      "('CL:', array([[103,  30],\n",
      "       [ 34,  24]], dtype=int64))\n",
      "('CL precision:', 0.4444444444444444)\n",
      "('CL recall:', 0.41379310344827586)\n",
      "('CL F1:', 0.4285714285714286)\n"
     ]
    }
   ],
   "source": [
    "#Check confusion matrix to evaluate the model\n",
    "from sklearn.metrics import confusion_matrix\n",
    "confusion_matrix = confusion_matrix(cl_test, pred_cl)\n",
    "print('CL:',confusion_matrix)\n",
    "print('CL precision:',precision_score(cl_test, pred_cl))\n",
    "print('CL recall:',recall_score(cl_test, pred_cl))\n",
    "print('CL F1:',f1_score(cl_test, pred_cl))"
   ]
  },
  {
   "cell_type": "code",
   "execution_count": 58,
   "metadata": {},
   "outputs": [
    {
     "name": "stdout",
     "output_type": "stream",
     "text": [
      "0.5130890052356021\n",
      "              precision    recall  f1-score   support\n",
      "\n",
      "           0       0.66      0.61      0.64       133\n",
      "           1       0.25      0.29      0.27        58\n",
      "\n",
      "   micro avg       0.51      0.51      0.51       191\n",
      "   macro avg       0.46      0.45      0.45       191\n",
      "weighted avg       0.54      0.51      0.52       191\n",
      "\n"
     ]
    }
   ],
   "source": [
    "samples_cl = SMOTE()\n",
    "samples_cl_x,samples_cl_y = samples_cl.fit_sample(x_train, cl_train)\n",
    "dt_cl2 = tree.DecisionTreeClassifier() \n",
    "dt_cl2.fit(samples_cl_x,samples_cl_y)\n",
    "#new decisision tree\n",
    "pred_cl2 =dt_cl2.predict(np.array(x_test))\n",
    "print(metrics.accuracy_score(cl_test, pred_cl2))\n",
    "print(metrics.classification_report(cl_test, pred_cl2))"
   ]
  },
  {
   "cell_type": "code",
   "execution_count": 60,
   "metadata": {},
   "outputs": [
    {
     "name": "stdout",
     "output_type": "stream",
     "text": [
      "('CL:', array([[81, 52],\n",
      "       [41, 17]], dtype=int64))\n",
      "('CL precision:', 0.2463768115942029)\n",
      "('CL recall:', 0.29310344827586204)\n",
      "('CL F1:', 0.26771653543307083)\n"
     ]
    }
   ],
   "source": [
    "from sklearn.metrics import confusion_matrix\n",
    "confusion_matrix = confusion_matrix(cl_test, pred_cl2)\n",
    "print('CL:',confusion_matrix)\n",
    "print('CL precision:',precision_score(cl_test, pred_cl2))\n",
    "print('CL recall:',recall_score(cl_test, pred_cl2))\n",
    "print('CL F1:',f1_score(cl_test, pred_cl2))"
   ]
  },
  {
   "cell_type": "markdown",
   "metadata": {},
   "source": [
    "Seems like the revised Decision Tree will be used."
   ]
  },
  {
   "cell_type": "code",
   "execution_count": 61,
   "metadata": {
    "collapsed": true
   },
   "outputs": [],
   "source": [
    "#Build linear regression for revenue of CL.\n",
    "#modify train data - add CL account number and account balance.\n",
    "df_cl = pd.read_csv('model/base.csv')\n",
    "df_cl = df_cl.replace(np.nan, 0)\n",
    "del_cols_cl = ['CLIENT', 'Count_SA', 'Count_OVD', 'Count_MF', 'Count_CC','ActBal_SA', 'ActBal_OVD', 'ActBal_MF', 'ActBal_CC']\n",
    "for col in del_cols_cl:\n",
    "    del df_cl[col]"
   ]
  },
  {
   "cell_type": "code",
   "execution_count": 62,
   "metadata": {},
   "outputs": [
    {
     "name": "stdout",
     "output_type": "stream",
     "text": [
      "('CC SVR Score:', -0.34986678758271617)\n"
     ]
    }
   ],
   "source": [
    "#Build Linear Regression for Revenue.\n",
    "\n",
    "cl_rev_x = df_cl.iloc[:,:-6]\n",
    "cl_rev_y = df_cl.iloc[:,-1]\n",
    "\n",
    "x_rev_train,x_rev_val, cl_rev_train, cl_rev_val = train_test_split(cl_rev_x,cl_rev_y,test_size=0.2, random_state=0)\n",
    "\n",
    "model_cl_rev = LinearRegression()\n",
    "model_cl_rev.fit(cc_rev_x, cc_rev_y)\n",
    "mf_rev_pred = model_cl_rev.predict(x_rev_val)\n",
    "print('CC SVR Score:',model_cl_rev.score(x_rev_val,cl_rev_val))\n",
    "\n",
    "prediction_cl_rev = model_cl_rev.predict(df_test)"
   ]
  },
  {
   "cell_type": "code",
   "execution_count": 63,
   "metadata": {
    "collapsed": true
   },
   "outputs": [],
   "source": [
    "# Load test data to predict the sales of CL\n",
    "\n",
    "df_test_x = pd.read_csv('model/test.csv')\n",
    "df_test_x = df_test_x.replace(np.nan, 0)\n",
    "del_cols = [ 'CLIENT', 'Count_SA','Count_MF','Count_OVD', 'Count_CC', 'Count_CL','ActBal_SA','ActBal_MF','ActBal_OVD', 'ActBal_CC', 'ActBal_CL']\n",
    "for col in del_cols:\n",
    "    del df_test_x [col]\n",
    "\n",
    "prediction_cl2=dt_cl2.predict(df_test_x)"
   ]
  },
  {
   "cell_type": "code",
   "execution_count": 64,
   "metadata": {
    "collapsed": true
   },
   "outputs": [],
   "source": [
    "#export the predicted result: Sale and Revenue for CL\n",
    "import numpy\n",
    "np.savetxt('sale_cl.csv',prediction_cl2,delimiter=\",\")\n",
    "np.savetxt('rev_cl.csv',prediction_cl_rev,delimiter=\",\")"
   ]
  },
  {
   "cell_type": "code",
   "execution_count": null,
   "metadata": {
    "collapsed": true
   },
   "outputs": [],
   "source": []
  }
 ],
 "metadata": {
  "kernelspec": {
   "display_name": "Python 3",
   "language": "python",
   "name": "python3"
  },
  "language_info": {
   "codemirror_mode": {
    "name": "ipython",
    "version": 3
   },
   "file_extension": ".py",
   "mimetype": "text/x-python",
   "name": "python",
   "nbconvert_exporter": "python",
   "pygments_lexer": "ipython3",
   "version": "3.6.1"
  }
 },
 "nbformat": 4,
 "nbformat_minor": 2
}
